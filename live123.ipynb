{
 "cells": [
  {
   "cell_type": "code",
   "execution_count": 29,
   "metadata": {},
   "outputs": [
    {
     "name": "stdout",
     "output_type": "stream",
     "text": [
      "The original string is : pwforskills\n",
      "The reversed string(using loops) is : slliksrofwp\n"
     ]
    }
   ],
   "source": [
    "# q.1 reverse a string                                                                                                                                                                                                                     #write a code to revrse a string\n",
    "\n",
    "def reverse(s):\n",
    "    str = \"\"\n",
    "    for i in s:\n",
    "        str = i + str\n",
    "    return str\n",
    "\n",
    "s = \"pwforskills\"\n",
    "\n",
    "print(\"The original string is : \", end=\"\")\n",
    "print(s)\n",
    "\n",
    "print(\"The reversed string(using loops) is : \", end=\"\")\n",
    "print(reverse(s))"
   ]
  },
  {
   "cell_type": "code",
   "execution_count": 30,
   "metadata": {},
   "outputs": [
    {
     "name": "stdout",
     "output_type": "stream",
     "text": [
      "3\n"
     ]
    }
   ],
   "source": [
    "#  Q.2 write a code to count the numbers of vowels in a string\n",
    "\n",
    "string = \"himanshu!\"\n",
    "vowels = \"aeiouAEIOU\"\n",
    " \n",
    "count = sum(string.count(vowel) for vowel in vowels)\n",
    "print(count)                                                                                                                                             "
   ]
  },
  {
   "cell_type": "code",
   "execution_count": 31,
   "metadata": {},
   "outputs": [
    {
     "name": "stdout",
     "output_type": "stream",
     "text": [
      "Yes\n"
     ]
    }
   ],
   "source": [
    "#Q.3 write a code to check if a given string is a palindrome or not\n",
    "\n",
    "# function which return reverse of a string\n",
    "\n",
    "def isPalindrome(s):\n",
    "    return s == s[::-1]\n",
    "\n",
    "s = \"malayalam\"\n",
    "ans = isPalindrome(s)\n",
    "\n",
    "if ans:\n",
    "    print(\"Yes\")\n",
    "else:\n",
    "    print(\"No\")\n"
   ]
  },
  {
   "cell_type": "code",
   "execution_count": 32,
   "metadata": {},
   "outputs": [
    {
     "name": "stdout",
     "output_type": "stream",
     "text": [
      "True\n",
      "False\n"
     ]
    }
   ],
   "source": [
    "#Q.4 write a code to check if two given string are anagrams of each other\n",
    "\n",
    "# Function to check if two strings are anagrams\n",
    "def are_anagrams(s1, s2):\n",
    "    # Sort both strings and compare\n",
    "    return sorted(s1) == sorted(s2)\n",
    "\n",
    "\n",
    "# Test cases\n",
    "if __name__ == \"__main__\":\n",
    "    str1 = \"listen\"\n",
    "    str2 = \"silent\"\n",
    "\n",
    "    if are_anagrams(str1, str2):\n",
    "        print(\"True\")\n",
    "    else:\n",
    "        print(\"False\")\n",
    "\n",
    "    str1 = \"gram\"\n",
    "    str2 = \"arm\"\n",
    "\n",
    "    if are_anagrams(str1, str2):\n",
    "        print(\"True\")\n",
    "    else:\n",
    "        print(\"False\")\n"
   ]
  },
  {
   "cell_type": "code",
   "execution_count": 1,
   "metadata": {},
   "outputs": [
    {
     "name": "stdout",
     "output_type": "stream",
     "text": [
      "The original string is : pwforskils is best for skills\n",
      "The substring to find : skills\n"
     ]
    }
   ],
   "source": [
    "#Q.5write a code to find all occurence of a given substring within another string\n",
    "\n",
    "test_str = \"pwforskils is best for skills\"\n",
    "  \n",
    "test_sub = \"skills\"\n",
    "  \n",
    "print(\"The original string is : \" + test_str) \n",
    "  \n",
    "# printing substring \n",
    "print(\"The substring to find : \" + test_sub) \n",
    "  \n"
   ]
  },
  {
   "cell_type": "code",
   "execution_count": null,
   "metadata": {},
   "outputs": [
    {
     "name": "stdout",
     "output_type": "stream",
     "text": [
      "ab3a6c2da3b\n"
     ]
    }
   ],
   "source": [
    "#Q.6 write a code to perfom basic string comperssion using the counts of repeated charcter\n",
    "\n",
    "\n",
    "def solve(s):\n",
    "   res = \"\"\n",
    "   cnt = 1\n",
    "   for i in range(1, len(s)):\n",
    "      if s[i - 1] == s[i]:\n",
    "         cnt += 1\n",
    "      else:\n",
    "         res = res + s[i - 1]\n",
    "         if cnt > 1:\n",
    "            res += str(cnt)\n",
    "         cnt = 1\n",
    "   res = res + s[-1]\n",
    "   if cnt > 1:\n",
    "      res += str(cnt)\n",
    "   return res\n",
    "\n",
    "s = \"abbbaaaaaaccdaaab\"\n",
    "print(solve(s))"
   ]
  },
  {
   "cell_type": "code",
   "execution_count": null,
   "metadata": {},
   "outputs": [
    {
     "name": "stdout",
     "output_type": "stream",
     "text": [
      "The String  pwforskills  has duplicate characters\n"
     ]
    }
   ],
   "source": [
    "#Q,7 write a code to determine if a string has all unique charcter\n",
    "\n",
    "def uniqueCharacters(str):\n",
    "     \n",
    "    # If at any time we encounter 2 \n",
    "    # same characters, return false\n",
    "    for i in range(len(str)):\n",
    "        for j in range(i + 1,len(str)): \n",
    "            if(str[i] == str[j]):\n",
    "                return False;\n",
    " \n",
    "    # If no duplicate characters \n",
    "    # encountered, return true\n",
    "    return True;\n",
    " \n",
    " \n",
    "# Driver Code\n",
    "str = \"pwforskills\";\n",
    " \n",
    "if(uniqueCharacters(str)):\n",
    "    print(\"The String \", str,\" has all unique characters\");\n",
    "else:\n",
    "    print(\"The String \", str, \" has duplicate characters\");\n",
    " "
   ]
  },
  {
   "cell_type": "code",
   "execution_count": null,
   "metadata": {},
   "outputs": [
    {
     "name": "stdout",
     "output_type": "stream",
     "text": [
      "pWfOrSkiLs\n"
     ]
    }
   ],
   "source": [
    "#Q.8 write a code to convert a given string to upper case or lower case\n",
    "\n",
    "\n",
    "def convertOpposite(str):\n",
    "    ln = len(str)\n",
    " \n",
    "    # Conversion according to ASCII values\n",
    "    for i in range(ln):\n",
    "        if str[i] >= 'a' and str[i] <= 'z':\n",
    " \n",
    "            # Convert lowercase to uppercase\n",
    "            str[i] = chr(ord(str[i]) - 32)\n",
    " \n",
    "        elif str[i] >= 'A' and str[i] <= 'Z':\n",
    " \n",
    "            # Convert lowercase to uppercase\n",
    "            str[i] = chr(ord(str[i]) + 32)\n",
    " \n",
    "# Driver code\n",
    "if __name__ == \"__main__\":\n",
    "    str = \"PwFoRsKIlS\"\n",
    "    str = list(str)\n",
    " \n",
    "    # Calling the Function\n",
    "    convertOpposite(str)\n",
    " \n",
    "    str = ''.join(str)\n",
    "    print(str)"
   ]
  },
  {
   "cell_type": "code",
   "execution_count": null,
   "metadata": {},
   "outputs": [
    {
     "ename": "IndentationError",
     "evalue": "expected an indented block (1988818949.py, line 15)",
     "output_type": "error",
     "traceback": [
      "\u001b[0;36m  Cell \u001b[0;32mIn[14], line 15\u001b[0;36m\u001b[0m\n\u001b[0;31m    if s.strip() == \"\":\u001b[0m\n\u001b[0m                       ^\u001b[0m\n\u001b[0;31mIndentationError\u001b[0m\u001b[0;31m:\u001b[0m expected an indented block\n"
     ]
    }
   ],
   "source": [
    "    #Q.9 write a code to count the numbers of words in string\n",
    "\n",
    "    # Python program to count total\n",
    "# number of words in the string\n",
    "\n",
    "\n",
    "def countWords(s):\n",
    "\n",
    "    # Check if the string is null\n",
    "    # or empty then return zero\n",
    "   def countWords(s):\n",
    "\n",
    "    # Check if the string is null\n",
    "    # or empty then return zero\n",
    "    if s.strip() ==:\n",
    "        return 0\n",
    "\n",
    "    # Splitting the string\n",
    "\n",
    "    words = s.split()\n",
    "\n",
    "    return len(words)\n",
    "\n",
    "\n",
    "if __name__ == \"__main__\":\n",
    "    s = \"abc\\\\p\\\"\"\n",
    "    print(\"No of words : \", countWords(s))"
   ]
  },
  {
   "cell_type": "code",
   "execution_count": null,
   "metadata": {},
   "outputs": [
    {
     "name": "stdout",
     "output_type": "stream",
     "text": [
      "pwforskills\n",
      "pw forskills\n"
     ]
    }
   ],
   "source": [
    "#Q,10 write a code to concatenate two string without using + oprator\n",
    "\n",
    "\n",
    "str1 = \"pw\"\n",
    "str2 = \"forskills\"\n",
    " \n",
    "# join() method is used to combine the strings\n",
    "print(\"\".join([str1, str2]))\n",
    " \n",
    "# join() method is used here to combine \n",
    "# the string with a separator Space(\" \")\n",
    "str3 = \" \".join([str1, str2])\n",
    " \n",
    "print(str3)"
   ]
  },
  {
   "cell_type": "code",
   "execution_count": 1,
   "metadata": {},
   "outputs": [
    {
     "name": "stdout",
     "output_type": "stream",
     "text": [
      "[3, 4, 6, 5]\n"
     ]
    }
   ],
   "source": [
    "##Q.11 write a code to remove all accurrences of specific eliment f  \n",
    "\n",
    "test_list = [1, 3, 4, 6, 5, 1]  \n",
    "ele=1 \n",
    "x=[j for i,j in enumerate(test_list) if j!=ele]  \n",
    "print(x)"
   ]
  },
  {
   "cell_type": "code",
   "execution_count": 36,
   "metadata": {},
   "outputs": [
    {
     "name": "stdout",
     "output_type": "stream",
     "text": [
      "Second largest element is: 45\n"
     ]
    }
   ],
   "source": [
    "\n",
    "#Q.12 impliment a code to find the second largest number in a given list of intigers  \n",
    "\n",
    "# Python program to find largest number\n",
    "# in a list\n",
    " \n",
    "# List of numbers\n",
    "list1 = [10, 20, 20, 4, 45, 45, 45, 99, 99]\n",
    " \n",
    "# Removing duplicates from the list\n",
    "list2 = list(set(list1))\n",
    " \n",
    "# Sorting the  list\n",
    "list2.sort()\n",
    " \n",
    "# Printing the second last element\n",
    "print(\"Second largest element is:\", list2[-2])\n"
   ]
  },
  {
   "cell_type": "code",
   "execution_count": 38,
   "metadata": {},
   "outputs": [
    {
     "name": "stdout",
     "output_type": "stream",
     "text": [
      "8 has occurred 5 times\n"
     ]
    }
   ],
   "source": [
    "#q.13 creat a code to count the occurrences of each \n",
    "# eliment in a list and return a dictionary with eliment as keys and \n",
    "# thier counts value?\n",
    "\n",
    "# Python code to count the number of occurrences\n",
    "def countX(lst, x):\n",
    "    count = 0\n",
    "    for ele in lst:\n",
    "        if (ele == x):\n",
    "            count = count + 1\n",
    "    return count\n",
    "\n",
    "\n",
    "# Driver Code\n",
    "lst = [8, 6, 8, 10, 8, 20, 10, 8, 8]\n",
    "x = 8\n",
    "print('{} has occurred {} times'.format(x,\n",
    "                                        countX(lst, x)))\n",
    "\n"
   ]
  },
  {
   "cell_type": "code",
   "execution_count": 39,
   "metadata": {},
   "outputs": [
    {
     "name": "stdout",
     "output_type": "stream",
     "text": [
      "[15, 14, 13, 12, 11, 10]\n"
     ]
    }
   ],
   "source": [
    "#Q.14 write a code to revrse a list in place without using any built in reverse function\n",
    "\n",
    "# Reversing a list using slicing technique\n",
    "def Reverse(lst):\n",
    "   new_lst = lst[::-1]\n",
    "   return new_lst\n",
    "\n",
    "\n",
    "lst = [10, 11, 12, 13, 14, 15]\n",
    "print(Reverse(lst))\n"
   ]
  },
  {
   "cell_type": "code",
   "execution_count": 2,
   "metadata": {},
   "outputs": [
    {
     "name": "stdout",
     "output_type": "stream",
     "text": [
      "The original list is : [1, 3, 5, 6, 3, 5, 6, 1]\n",
      "The list after removing duplicates : \n"
     ]
    }
   ],
   "source": [
    "# q.15 \n",
    "#impliment a code to find and remove duplicates from a \n",
    "# list while preserving the original order of eliments\n",
    "\n",
    "# initializing list\n",
    "test_list = [1, 3, 5, 6, 3, 5, 6, 1]\n",
    "print(\"The original list is : \"\n",
    "      + str(test_list))\n",
    "\n",
    "# using list comprehension to remove duplicated from list\n",
    "res = []\n",
    "[res.append(x) for x in test_list if x not in res]\n",
    "\n",
    "# printing list after removal\n",
    "print (\"The list after removing duplicates : \")\n",
    "       \n"
   ]
  },
  {
   "cell_type": "code",
   "execution_count": 45,
   "metadata": {},
   "outputs": [
    {
     "name": "stdout",
     "output_type": "stream",
     "text": [
      "Yes, the list is sorted.\n"
     ]
    }
   ],
   "source": [
    "#q.16 creat a code to cheack if a given list is sorted\n",
    "# ( either in accending or deccending or not\n",
    "# initialize the list\n",
    "test_list = [1, 4, 5, 8, 10]\n",
    " \n",
    "# check if the list is sorted using zip() and all()\n",
    "is_sorted = all(a <= b for a, b in zip(test_list, test_list[1:]))\n",
    " \n",
    "# print the result\n",
    "if is_sorted:\n",
    "    print(\"Yes, the list is sorted.\")\n",
    "else:\n",
    "    print(\"No, the list is not sorted.\")\n"
   ]
  },
  {
   "cell_type": "code",
   "execution_count": 50,
   "metadata": {},
   "outputs": [
    {
     "data": {
      "text/plain": [
       "[1, 3, 4, 5, 8, 10, 29, 41, 45, 49, 50]"
      ]
     },
     "execution_count": 50,
     "metadata": {},
     "output_type": "execute_result"
    }
   ],
   "source": [
    "#Q.17 write a code to merge two sorted list into a single a sorte list \n",
    "\n",
    "list1 = [1, 5, 8, 10, 50]\n",
    "list2 = [3, 4, 29, 41, 45, 49]\n",
    "from heapq import merge\n",
    "list(merge(list1, list2))\n",
    "\n"
   ]
  },
  {
   "cell_type": "code",
   "execution_count": 51,
   "metadata": {},
   "outputs": [
    {
     "name": "stdout",
     "output_type": "stream",
     "text": [
      "[9, 11, 26, 28]\n"
     ]
    }
   ],
   "source": [
    "#q.18 impliment a code to find the intersection for two given list\n",
    "\n",
    "# Python program to illustrate the intersection\n",
    "# of two lists in most simple way\n",
    "def intersection(lst1, lst2):\n",
    "    lst3 = [value for value in lst1 if value in lst2]\n",
    "    return lst3\n",
    " \n",
    "# Driver Code\n",
    "lst1 = [4, 9, 1, 17, 11, 26, 28, 54, 69]\n",
    "lst2 = [9, 9, 74, 21, 45, 11, 63, 28, 26]\n",
    "print(intersection(lst1, lst2))"
   ]
  },
  {
   "cell_type": "code",
   "execution_count": 52,
   "metadata": {},
   "outputs": [
    {
     "name": "stdout",
     "output_type": "stream",
     "text": [
      "[23, 15, 2, 14, 14, 16, 20, 52, 2, 48, 15, 12, 26, 32, 47, 54]\n"
     ]
    }
   ],
   "source": [
    "#q,19 create a code to find union of two given list\n",
    "\n",
    " #Python program to illustrate union\n",
    "# Maintained repetition \n",
    "def Union(lst1, lst2):\n",
    "    final_list = lst1 + lst2\n",
    "    return final_list\n",
    " \n",
    "# Driver Code\n",
    "lst1 = [23, 15, 2, 14, 14, 16, 20 ,52]\n",
    "lst2 = [2, 48, 15, 12, 26, 32, 47, 54]\n",
    "print(Union(lst1, lst2))"
   ]
  },
  {
   "cell_type": "code",
   "execution_count": 53,
   "metadata": {},
   "outputs": [
    {
     "name": "stdout",
     "output_type": "stream",
     "text": [
      "Original list: [1, 2, 3, 4, 5]\n",
      "Shuffled list: [3, 1, 5, 4, 2]\n"
     ]
    }
   ],
   "source": [
    "#q.20 write a code to shuffle a given list randomly without \n",
    "# using any built in shuffle function\n",
    "\n",
    "import random\n",
    " \n",
    "my_list = [1, 2, 3, 4, 5]\n",
    " \n",
    "shuffled_list = sorted(my_list, key=lambda x: random.random())\n",
    " \n",
    "print(\"Original list:\", my_list)\n",
    "print(\"Shuffled list:\", shuffled_list)\n"
   ]
  },
  {
   "cell_type": "code",
   "execution_count": 57,
   "metadata": {},
   "outputs": [
    {
     "name": "stdout",
     "output_type": "stream",
     "text": [
      "[(4, 7), (7, 4), (4, 8), (8, 4), (5, 7), (7, 5), (5, 8), (8, 5)]\n"
     ]
    }
   ],
   "source": [
    "#Q.21 write a code to takes two tuples as input and \n",
    "# returns a new tuple containig eliment that are common to both input tuples\n",
    "\n",
    "# input\n",
    "tuple1 = (4, 5)\n",
    "tuple2 = (7, 8)\n",
    " \n",
    "# initialize an empty list to store the filtered tuples\n",
    "filtered_tuples = []\n",
    " \n",
    "# iterate over each element in tuple 1\n",
    "for element1 in tuple1:\n",
    "    # iterate over each element in tuple 2\n",
    "    for element2 in tuple2:\n",
    "        # append a tuple of the two elements to the filtered list\n",
    "        filtered_tuples.append((element1, element2))\n",
    "        # append a tuple of the two elements in reverse order to the filtered list\n",
    "        filtered_tuples.append((element2, element1))\n",
    " \n",
    "# output\n",
    "print(filtered_tuples)"
   ]
  },
  {
   "cell_type": "code",
   "execution_count": 58,
   "metadata": {},
   "outputs": [
    {
     "name": "stdout",
     "output_type": "stream",
     "text": [
      "set1 intersection set2 :  {4, 6}\n",
      "set1 intersection set2 intersection set3 : {4, 6}\n"
     ]
    }
   ],
   "source": [
    "#q.22 create a code to that prompts the ussers to eniter two sets of integegers \n",
    "# seprated by commas then print the intersection of these two sets\n",
    "\n",
    "set1 = {2, 4, 5, 6}\n",
    "set2 = {4, 6, 7, 8}\n",
    "set3 = {4, 6, 8}\n",
    "# intersection of two sets\n",
    "print(\"set1 intersection set2 : \",\n",
    "      set1.intersection(set2))\n",
    " \n",
    "# intersection of three sets\n",
    "print(\"set1 intersection set2 intersection set3 :\",\n",
    "      set1.intersection(set2, set3))"
   ]
  },
  {
   "cell_type": "code",
   "execution_count": 60,
   "metadata": {},
   "outputs": [
    {
     "name": "stdout",
     "output_type": "stream",
     "text": [
      "(1, 2, 3, 4, 5, 6)\n"
     ]
    }
   ],
   "source": [
    "#Q.23 write a code to concatenates two tuples the function should take two tuples\n",
    "#  as input and return a new tuple containing eliments from both input tuples\n",
    "\n",
    "# initialize tuples\n",
    "t1 = (1, 2, 3)\n",
    "t2 = (4, 5, 6)\n",
    "t1 += t2\n",
    "print(t1)"
   ]
  },
  {
   "cell_type": "code",
   "execution_count": 61,
   "metadata": {},
   "outputs": [
    {
     "name": "stdout",
     "output_type": "stream",
     "text": [
      "{'o', 'p', 'f', 'r', 'w'}\n"
     ]
    }
   ],
   "source": [
    "#Q.24 develop a code that propts the user to input two sets of string \n",
    "# then print the eliment that are present in the frist set but not in the second set\n",
    "\n",
    "# string 1\n",
    "a = \"pwforskills\"\n",
    " \n",
    "# string 2\n",
    "b = \"skills\"\n",
    " \n",
    "# convert string 1 into set\n",
    "setA = set(a)\n",
    " \n",
    "# convert string 2 into set\n",
    "setB = set(b)\n",
    " \n",
    "# store the difference in form of list\n",
    "result = setA-setB\n",
    " \n",
    "# print result\n",
    "print(result)\n"
   ]
  },
  {
   "cell_type": "code",
   "execution_count": 62,
   "metadata": {},
   "outputs": [
    {
     "name": "stdout",
     "output_type": "stream",
     "text": [
      "[(1, 1), (2, 8), (5, 125), (6, 216)]\n",
      "set1 U set2 U set3 : {2, 4, 5, 6, 7, 8, 9, 10}\n",
      "set1 U set2 U set3 : {2, 4, 5, 6, 7, 8, 9, 10}\n"
     ]
    }
   ],
   "source": [
    "#Q.25 creat a code that takes a tuple and two intigers as input the function \n",
    "# should returns a new tuple containing eliment from the original tuple within the \n",
    "# specified range of indices\n",
    "\n",
    "# creating a list\n",
    "list1 = [1, 2, 5, 6]\n",
    " \n",
    "# using list comprehension to iterate each\n",
    "# values in list and create a tuple as specified\n",
    "res = [(val, val**3) for val in list1]\n",
    " \n",
    "# print the result\n",
    "print(res)\n",
    "\n",
    "#Q.26 write a code that prompts the user \n",
    "# to input two sets of charcter then print the union of these two sets\n",
    "\n",
    "set1 = {2, 4, 5, 6}\n",
    "set2 = {4, 6, 7, 8}\n",
    "set3 = {7, 8, 9, 10}\n",
    " \n",
    "# union of two sets\n",
    "print(\"set1 U set2 U set3 :\", set1.union(set2).union(set3))\n",
    " \n",
    "# union of three sets\n",
    "print(\"set1 U set2 U set3 :\", set1.union(set2, set3))\n",
    "\n"
   ]
  },
  {
   "cell_type": "code",
   "execution_count": 64,
   "metadata": {},
   "outputs": [
    {
     "name": "stdout",
     "output_type": "stream",
     "text": [
      "JIT borawan\n",
      "5000\n",
      "Engineering\n"
     ]
    }
   ],
   "source": [
    "#Q.27 develope the code that takes a tupel of intigers as input the\n",
    "#  function should return the maximum and minimum values from the tuple\n",
    "#  using tuple unpacking\n",
    "\n",
    "# this lines PACKS values\n",
    "# into variable a\n",
    "a = (\"JIT borawan\", 5000, \"Engineering\")  \n",
    " \n",
    "# this lines UNPACKS values\n",
    "# of variable a\n",
    "(college, student, type_ofcollege) = a  \n",
    " \n",
    "# print college name\n",
    "print(college)\n",
    " \n",
    "# print no of student\n",
    "print(student)\n",
    " \n",
    "# print type of college\n",
    "print(type_ofcollege)\n",
    "\n",
    "#Q,28 creat a code that defines tw"
   ]
  },
  {
   "cell_type": "code",
   "execution_count": 65,
   "metadata": {},
   "outputs": [
    {
     "name": "stdout",
     "output_type": "stream",
     "text": [
      "Union : {0, 1, 2, 3, 4, 5, 6, 8}\n",
      "Intersection : {2, 4}\n",
      "Difference : {0, 8, 6}\n",
      "Symmetric difference : {0, 1, 3, 5, 6, 8}\n"
     ]
    }
   ],
   "source": [
    "#Q,28 creat a code that defines two sets of integers then print the \n",
    "# union intersection and diffrence of these two sets\n",
    "\n",
    "# sets are define \n",
    "A = {0, 2, 4, 6, 8}; \n",
    "B = {1, 2, 3, 4, 5}; \n",
    "  \n",
    "# union \n",
    "print(\"Union :\", A | B) \n",
    "  \n",
    "# intersection \n",
    "print(\"Intersection :\", A & B) \n",
    "  \n",
    "# difference \n",
    "print(\"Difference :\", A - B) \n",
    "  \n",
    "# symmetric difference \n",
    "print(\"Symmetric difference :\", A ^ B) \n"
   ]
  },
  {
   "cell_type": "code",
   "execution_count": 66,
   "metadata": {},
   "outputs": [
    {
     "name": "stdout",
     "output_type": "stream",
     "text": [
      "0\n",
      "3\n",
      "4\n"
     ]
    }
   ],
   "source": [
    "#Q.29 write a code that takes a tuple and an eliment as\n",
    "#  input the function should returns the counts of occurrences of the given eliment in tuple\n",
    "\n",
    "# Program to count the number of times an element\n",
    "# Present in the list\n",
    " \n",
    " \n",
    "def countX(tup, x):\n",
    "    count = 0\n",
    "    for ele in tup:\n",
    "        if (ele == x):\n",
    "            count = count + 1\n",
    "    return count\n",
    " \n",
    " \n",
    "# Driver Code\n",
    "tup = (10, 8, 5, 2, 10, 15, 10, 8, 5, 8, 8, 2)\n",
    "enq = 4\n",
    "enq1 = 10\n",
    "enq2 = 8\n",
    " \n",
    "print(countX(tup, enq))\n",
    "print(countX(tup, enq1))\n",
    "print(countX(tup, enq2))\n",
    "\n"
   ]
  },
  {
   "cell_type": "code",
   "execution_count": 2,
   "metadata": {},
   "outputs": [
    {
     "name": "stdout",
     "output_type": "stream",
     "text": [
      "Symmetric difference : {0, 1, 3, 5, 6, 8}\n"
     ]
    }
   ],
   "source": [
    "#Q.30 develop the code that prompts the user input two sets of string then\n",
    "#  print the symmetric diffrence of these two sets\n",
    "\n",
    "A = {0, 2, 4, 6, 8}; \n",
    "B = {1, 2, 3, 4, 5}; \n",
    "# symmetric difference \n",
    "print(\"Symmetric difference :\", A ^ B)\n",
    "\n"
   ]
  },
  {
   "cell_type": "code",
   "execution_count": 3,
   "metadata": {},
   "outputs": [
    {
     "name": "stdout",
     "output_type": "stream",
     "text": [
      " 1 :  5\n",
      " 5 :  2\n",
      " 3 :  3\n",
      " 4 :  3\n",
      " 2 :  4\n"
     ]
    }
   ],
   "source": [
    "#Q>31  write a code that takes a list of words as input and return a dictionary where the keys \n",
    "# are unique words and the value are the frequinces of those words in the input list\n",
    "\n",
    "def CountFrequency(my_list):\n",
    " \n",
    "    # Creating an empty dictionary\n",
    "    freq = {}\n",
    "    for item in my_list:\n",
    "        if (item in freq):\n",
    "            freq[item] += 1\n",
    "        else:\n",
    "            freq[item] = 1\n",
    " \n",
    "    for key, value in freq.items():\n",
    "        print(\"% d : % d\" % (key, value))\n",
    " \n",
    " \n",
    "# Driver function\n",
    "if __name__ == \"__main__\":\n",
    "    my_list = [1, 1, 1, 5, 5, 3, 1, 3, 3, 1, 4, 4, 4, 2, 2, 2, 2]\n",
    " \n",
    "    CountFrequency(my_list)\n"
   ]
  },
  {
   "cell_type": "code",
   "execution_count": 4,
   "metadata": {},
   "outputs": [
    {
     "name": "stdout",
     "output_type": "stream",
     "text": [
      "{'pw': 100, 'skills': 200, 'for': 325}\n"
     ]
    }
   ],
   "source": [
    "#Q.32 write a code that takes two dictinoary as input and merges them into\n",
    "#  single dictionary if where are common keys the values should be added together\n",
    "\n",
    "# Python program to combine two dictionary\n",
    "# adding values for common keys\n",
    "# initializing two dictionaries\n",
    "dict1 = {'a': 12, 'for': 25, 'c': 9}\n",
    "dict2 = {'pw': 100, 'skills': 200, 'for': 300}\n",
    " \n",
    "# adding the values with common key\n",
    "for key in dict2:\n",
    "    if key in dict1:\n",
    "        dict2[key] = dict2[key] + dict1[key]\n",
    "    else:\n",
    "        pass\n",
    "         \n",
    "print(dict2)"
   ]
  },
  {
   "cell_type": "code",
   "execution_count": 6,
   "metadata": {},
   "outputs": [
    {
     "name": "stdout",
     "output_type": "stream",
     "text": [
      "The original dictionary is : {'PW': {'is': 'best'}}\n",
      "The nested safely accessed value is :  None\n"
     ]
    }
   ],
   "source": [
    "#Q.33 write a code to acces a value in a nested dictionary the function should take the \n",
    "# dictionary and a list os keys as input and return the corresponding value if any of the \n",
    "# keys do not exits in the dictionary the function should return none\n",
    "\n",
    "\n",
    "# Using nested get()\n",
    " \n",
    "# initializing dictionary\n",
    "test_dict = {'PW' : {'is' : 'best'}}\n",
    " \n",
    "# printing original dictionary\n",
    "print(\"The original dictionary is : \" + str(test_dict))\n",
    " \n",
    "# using nested get()\n",
    "# Safe access nested dictionary key\n",
    "res = test_dict.get('Gfg', {}).get('is')\n",
    " \n",
    "# printing result\n",
    "print(\"The nested safely accessed value is :  \" + str(res))\n"
   ]
  },
  {
   "cell_type": "code",
   "execution_count": 7,
   "metadata": {},
   "outputs": [
    {
     "name": "stdout",
     "output_type": "stream",
     "text": [
      "{'rajnish': 9, 'ravi': 10, 'sanjeev': 15, 'suraj': 32, 'yash': 2}\n"
     ]
    }
   ],
   "source": [
    "#Q.34 write a code that takes a dictionary as input and returns a\n",
    "#  sorted version of it bassed on the values you can choose whetwer to \n",
    "# sort in accending order\n",
    "\n",
    "myDict = {'ravi': 10, 'rajnish': 9,\n",
    "        'sanjeev': 15, 'yash': 2, 'suraj': 32}\n",
    "\n",
    "myKeys = list(myDict.keys())\n",
    "myKeys.sort()\n",
    "sorted_dict = {i: myDict[i] for i in myKeys}\n",
    "\n",
    "print(sorted_dict)\n"
   ]
  },
  {
   "cell_type": "code",
   "execution_count": 8,
   "metadata": {},
   "outputs": [
    {
     "name": "stdout",
     "output_type": "stream",
     "text": [
      "Original dictionary is : \n",
      "{'A': 67, 'B': 23, 'C': 45, 'D': 56, 'E': 12, 'F': 69, 'G': 67, 'H': 23}\n",
      "\n",
      "Dictionary after swapping is :  \n",
      "keys: values\n",
      "67  :   G\n",
      "23  :   H\n",
      "45  :   C\n",
      "56  :   D\n",
      "12  :   E\n",
      "69  :   F\n"
     ]
    }
   ],
   "source": [
    "#Q.35 write a code that inverts a dictionary swapping keys and values ensure that the invented \n",
    "# dictionry correctly handlles casses where multiple keys have the same value by storing the key \n",
    "# as a list the inverted dictionary\n",
    "\n",
    "# swap of key and value \n",
    "   \n",
    "# initializing dictionary \n",
    "old_dict = {'A': 67, 'B': 23, 'C': 45, 'D': 56, 'E': 12, 'F': 69, 'G': 67, 'H': 23}\n",
    " \n",
    "new_dict = dict([(value, key) for key, value in old_dict.items()])\n",
    "   \n",
    "# Printing original dictionary \n",
    "print (\"Original dictionary is : \")\n",
    "print(old_dict) \n",
    " \n",
    "print()\n",
    " \n",
    "# Printing new dictionary after swapping keys and values\n",
    "print (\"Dictionary after swapping is :  \") \n",
    "print(\"keys: values\")\n",
    "for i in new_dict:\n",
    "    print(i, \" :  \", new_dict[i])"
   ]
  },
  {
   "cell_type": "code",
   "execution_count": null,
   "metadata": {},
   "outputs": [],
   "source": []
  }
 ],
 "metadata": {
  "kernelspec": {
   "display_name": "Python 3",
   "language": "python",
   "name": "python3"
  },
  "language_info": {
   "codemirror_mode": {
    "name": "ipython",
    "version": 3
   },
   "file_extension": ".py",
   "mimetype": "text/x-python",
   "name": "python",
   "nbconvert_exporter": "python",
   "pygments_lexer": "ipython3",
   "version": "3.9.6"
  }
 },
 "nbformat": 4,
 "nbformat_minor": 2
}
